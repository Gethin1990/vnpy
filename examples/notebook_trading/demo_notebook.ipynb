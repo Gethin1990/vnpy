{
 "cells": [
  {
   "cell_type": "markdown",
   "metadata": {},
   "source": [
    "该Jupyter Notebook用于展示如何使用ScriptTraderApp模块，在CLI命令行下进行交易指令的调用"
   ]
  },
  {
   "cell_type": "code",
   "execution_count": null,
   "metadata": {},
   "outputs": [],
   "source": [
    "from vnpy.trader.utility import load_json\n",
    "\n",
    "from vnpy_scripttrader import init_cli_trading\n",
    "from vnpy_ctp import CtpGateway\n",
    "from vnpy_scripttrader.engine import ScriptEngine"
   ]
  },
  {
   "cell_type": "code",
   "execution_count": null,
   "metadata": {},
   "outputs": [],
   "source": [
    "# 连接到服务器\n",
    "setting = load_json(\"connect_ctp.json\")\n",
    "engine: ScriptEngine = init_cli_trading([CtpGateway])\n",
    "engine.connect_gateway(setting, \"CTP\")"
   ]
  },
  {
   "cell_type": "code",
   "execution_count": 3,
   "metadata": {
    "scrolled": false
   },
   "outputs": [],
   "source": [
    "# 查询所有合约\n",
    "engine.get_all_contracts(use_df=True)"
   ]
  },
  {
   "cell_type": "code",
   "execution_count": 8,
   "metadata": {},
   "outputs": [
    {
     "data": {
      "application/vnd.microsoft.datawrangler.viewer.v0+json": {
       "columns": [
        {
         "name": "index",
         "rawType": "int64",
         "type": "integer"
        },
        {
         "name": "gateway_name",
         "rawType": "object",
         "type": "string"
        },
        {
         "name": "accountid",
         "rawType": "object",
         "type": "string"
        },
        {
         "name": "balance",
         "rawType": "float64",
         "type": "float"
        },
        {
         "name": "frozen",
         "rawType": "float64",
         "type": "float"
        },
        {
         "name": "available",
         "rawType": "float64",
         "type": "float"
        },
        {
         "name": "vt_accountid",
         "rawType": "object",
         "type": "string"
        }
       ],
       "ref": "ce08a5df-a8f5-45cb-93bd-9e998696bf5c",
       "rows": [
        [
         "0",
         "CTP",
         "243697",
         "19999610.045",
         "0.0",
         "19935770.045",
         "CTP.243697"
        ]
       ],
       "shape": {
        "columns": 6,
        "rows": 1
       }
      },
      "text/html": [
       "<div>\n",
       "<style scoped>\n",
       "    .dataframe tbody tr th:only-of-type {\n",
       "        vertical-align: middle;\n",
       "    }\n",
       "\n",
       "    .dataframe tbody tr th {\n",
       "        vertical-align: top;\n",
       "    }\n",
       "\n",
       "    .dataframe thead th {\n",
       "        text-align: right;\n",
       "    }\n",
       "</style>\n",
       "<table border=\"1\" class=\"dataframe\">\n",
       "  <thead>\n",
       "    <tr style=\"text-align: right;\">\n",
       "      <th></th>\n",
       "      <th>gateway_name</th>\n",
       "      <th>accountid</th>\n",
       "      <th>balance</th>\n",
       "      <th>frozen</th>\n",
       "      <th>available</th>\n",
       "      <th>vt_accountid</th>\n",
       "    </tr>\n",
       "  </thead>\n",
       "  <tbody>\n",
       "    <tr>\n",
       "      <th>0</th>\n",
       "      <td>CTP</td>\n",
       "      <td>243697</td>\n",
       "      <td>1.999961e+07</td>\n",
       "      <td>0.0</td>\n",
       "      <td>1.993577e+07</td>\n",
       "      <td>CTP.243697</td>\n",
       "    </tr>\n",
       "  </tbody>\n",
       "</table>\n",
       "</div>"
      ],
      "text/plain": [
       "  gateway_name accountid       balance  frozen     available vt_accountid\n",
       "0          CTP    243697  1.999961e+07     0.0  1.993577e+07   CTP.243697"
      ]
     },
     "execution_count": 8,
     "metadata": {},
     "output_type": "execute_result"
    }
   ],
   "source": [
    "# 查询资金\n",
    "engine.get_all_accounts(use_df=True)"
   ]
  },
  {
   "cell_type": "code",
   "execution_count": 4,
   "metadata": {},
   "outputs": [],
   "source": [
    "# 查询持仓\n",
    "engine.get_all_positions(use_df=True)"
   ]
  },
  {
   "cell_type": "code",
   "execution_count": 12,
   "metadata": {},
   "outputs": [],
   "source": [
    "# 查询活动委托\n",
    "engine.get_all_active_orders(use_df=True)"
   ]
  },
  {
   "cell_type": "code",
   "execution_count": 17,
   "metadata": {},
   "outputs": [],
   "source": [
    "# 订阅行情\n",
    "engine.subscribe([\"HO2507-C-2750.CFFEX\"])"
   ]
  },
  {
   "cell_type": "code",
   "execution_count": 18,
   "metadata": {},
   "outputs": [
    {
     "data": {
      "application/vnd.microsoft.datawrangler.viewer.v0+json": {
       "columns": [
        {
         "name": "index",
         "rawType": "int64",
         "type": "integer"
        },
        {
         "name": "gateway_name",
         "rawType": "object",
         "type": "string"
        },
        {
         "name": "symbol",
         "rawType": "object",
         "type": "string"
        },
        {
         "name": "exchange",
         "rawType": "object",
         "type": "unknown"
        },
        {
         "name": "datetime",
         "rawType": "datetime64[ns, Asia/Shanghai]",
         "type": "unknown"
        },
        {
         "name": "name",
         "rawType": "object",
         "type": "string"
        },
        {
         "name": "volume",
         "rawType": "int64",
         "type": "integer"
        },
        {
         "name": "turnover",
         "rawType": "float64",
         "type": "float"
        },
        {
         "name": "open_interest",
         "rawType": "float64",
         "type": "float"
        },
        {
         "name": "last_price",
         "rawType": "float64",
         "type": "float"
        },
        {
         "name": "last_volume",
         "rawType": "int64",
         "type": "integer"
        },
        {
         "name": "limit_up",
         "rawType": "float64",
         "type": "float"
        },
        {
         "name": "limit_down",
         "rawType": "float64",
         "type": "float"
        },
        {
         "name": "open_price",
         "rawType": "float64",
         "type": "float"
        },
        {
         "name": "high_price",
         "rawType": "float64",
         "type": "float"
        },
        {
         "name": "low_price",
         "rawType": "float64",
         "type": "float"
        },
        {
         "name": "pre_close",
         "rawType": "float64",
         "type": "float"
        },
        {
         "name": "bid_price_1",
         "rawType": "float64",
         "type": "float"
        },
        {
         "name": "bid_price_2",
         "rawType": "int64",
         "type": "integer"
        },
        {
         "name": "bid_price_3",
         "rawType": "int64",
         "type": "integer"
        },
        {
         "name": "bid_price_4",
         "rawType": "int64",
         "type": "integer"
        },
        {
         "name": "bid_price_5",
         "rawType": "int64",
         "type": "integer"
        },
        {
         "name": "ask_price_1",
         "rawType": "float64",
         "type": "float"
        },
        {
         "name": "ask_price_2",
         "rawType": "int64",
         "type": "integer"
        },
        {
         "name": "ask_price_3",
         "rawType": "int64",
         "type": "integer"
        },
        {
         "name": "ask_price_4",
         "rawType": "int64",
         "type": "integer"
        },
        {
         "name": "ask_price_5",
         "rawType": "int64",
         "type": "integer"
        },
        {
         "name": "bid_volume_1",
         "rawType": "int64",
         "type": "integer"
        },
        {
         "name": "bid_volume_2",
         "rawType": "int64",
         "type": "integer"
        },
        {
         "name": "bid_volume_3",
         "rawType": "int64",
         "type": "integer"
        },
        {
         "name": "bid_volume_4",
         "rawType": "int64",
         "type": "integer"
        },
        {
         "name": "bid_volume_5",
         "rawType": "int64",
         "type": "integer"
        },
        {
         "name": "ask_volume_1",
         "rawType": "int64",
         "type": "integer"
        },
        {
         "name": "ask_volume_2",
         "rawType": "int64",
         "type": "integer"
        },
        {
         "name": "ask_volume_3",
         "rawType": "int64",
         "type": "integer"
        },
        {
         "name": "ask_volume_4",
         "rawType": "int64",
         "type": "integer"
        },
        {
         "name": "ask_volume_5",
         "rawType": "int64",
         "type": "integer"
        },
        {
         "name": "localtime",
         "rawType": "object",
         "type": "unknown"
        },
        {
         "name": "vt_symbol",
         "rawType": "object",
         "type": "string"
        }
       ],
       "ref": "f2401815-1731-4e23-96a2-8073b40b0942",
       "rows": [
        [
         "0",
         "CTP",
         "HO2507-C-2750",
         "Exchange.CFFEX",
         "2025-07-01 11:29:28+08:00",
         "HO2507-C-2750",
         "1674",
         "2246820.0",
         "3735.0",
         "13.2",
         "0",
         "285.40000000000003",
         "0.2",
         "13.2",
         "15.0",
         "12.0",
         "14.4",
         "13.2",
         "0",
         "0",
         "0",
         "0",
         "13.4",
         "0",
         "0",
         "0",
         "0",
         "17",
         "0",
         "0",
         "0",
         "0",
         "6",
         "0",
         "0",
         "0",
         "0",
         null,
         "HO2507-C-2750.CFFEX"
        ]
       ],
       "shape": {
        "columns": 38,
        "rows": 1
       }
      },
      "text/html": [
       "<div>\n",
       "<style scoped>\n",
       "    .dataframe tbody tr th:only-of-type {\n",
       "        vertical-align: middle;\n",
       "    }\n",
       "\n",
       "    .dataframe tbody tr th {\n",
       "        vertical-align: top;\n",
       "    }\n",
       "\n",
       "    .dataframe thead th {\n",
       "        text-align: right;\n",
       "    }\n",
       "</style>\n",
       "<table border=\"1\" class=\"dataframe\">\n",
       "  <thead>\n",
       "    <tr style=\"text-align: right;\">\n",
       "      <th></th>\n",
       "      <th>gateway_name</th>\n",
       "      <th>symbol</th>\n",
       "      <th>exchange</th>\n",
       "      <th>datetime</th>\n",
       "      <th>name</th>\n",
       "      <th>volume</th>\n",
       "      <th>turnover</th>\n",
       "      <th>open_interest</th>\n",
       "      <th>last_price</th>\n",
       "      <th>last_volume</th>\n",
       "      <th>...</th>\n",
       "      <th>bid_volume_3</th>\n",
       "      <th>bid_volume_4</th>\n",
       "      <th>bid_volume_5</th>\n",
       "      <th>ask_volume_1</th>\n",
       "      <th>ask_volume_2</th>\n",
       "      <th>ask_volume_3</th>\n",
       "      <th>ask_volume_4</th>\n",
       "      <th>ask_volume_5</th>\n",
       "      <th>localtime</th>\n",
       "      <th>vt_symbol</th>\n",
       "    </tr>\n",
       "  </thead>\n",
       "  <tbody>\n",
       "    <tr>\n",
       "      <th>0</th>\n",
       "      <td>CTP</td>\n",
       "      <td>HO2507-C-2750</td>\n",
       "      <td>Exchange.CFFEX</td>\n",
       "      <td>2025-07-01 11:29:28+08:00</td>\n",
       "      <td>HO2507-C-2750</td>\n",
       "      <td>1674</td>\n",
       "      <td>2246820.0</td>\n",
       "      <td>3735.0</td>\n",
       "      <td>13.2</td>\n",
       "      <td>0</td>\n",
       "      <td>...</td>\n",
       "      <td>0</td>\n",
       "      <td>0</td>\n",
       "      <td>0</td>\n",
       "      <td>6</td>\n",
       "      <td>0</td>\n",
       "      <td>0</td>\n",
       "      <td>0</td>\n",
       "      <td>0</td>\n",
       "      <td>None</td>\n",
       "      <td>HO2507-C-2750.CFFEX</td>\n",
       "    </tr>\n",
       "  </tbody>\n",
       "</table>\n",
       "<p>1 rows × 38 columns</p>\n",
       "</div>"
      ],
      "text/plain": [
       "  gateway_name         symbol        exchange                  datetime  \\\n",
       "0          CTP  HO2507-C-2750  Exchange.CFFEX 2025-07-01 11:29:28+08:00   \n",
       "\n",
       "            name  volume   turnover  open_interest  last_price  last_volume  \\\n",
       "0  HO2507-C-2750    1674  2246820.0         3735.0        13.2            0   \n",
       "\n",
       "   ...  bid_volume_3  bid_volume_4  bid_volume_5  ask_volume_1  ask_volume_2  \\\n",
       "0  ...             0             0             0             6             0   \n",
       "\n",
       "   ask_volume_3  ask_volume_4  ask_volume_5  localtime            vt_symbol  \n",
       "0             0             0             0       None  HO2507-C-2750.CFFEX  \n",
       "\n",
       "[1 rows x 38 columns]"
      ]
     },
     "execution_count": 18,
     "metadata": {},
     "output_type": "execute_result"
    }
   ],
   "source": [
    "# 查询行情\n",
    "engine.get_tick(\"HO2507-C-2750.CFFEX\", use_df=True)"
   ]
  },
  {
   "cell_type": "code",
   "execution_count": 13,
   "metadata": {},
   "outputs": [
    {
     "name": "stdout",
     "output_type": "stream",
     "text": [
      "\n"
     ]
    }
   ],
   "source": [
    "# 委托下单\n",
    "vt_orderid = engine.buy(\"sc2209.INE\", 32, 1000)\n",
    "print(vt_orderid)"
   ]
  },
  {
   "cell_type": "code",
   "execution_count": 14,
   "metadata": {},
   "outputs": [
    {
     "ename": "TypeError",
     "evalue": "OmsEngine.get_order() missing 1 required positional argument: 'vt_orderid'",
     "output_type": "error",
     "traceback": [
      "\u001b[31m---------------------------------------------------------------------------\u001b[39m",
      "\u001b[31mTypeError\u001b[39m                                 Traceback (most recent call last)",
      "\u001b[36mCell\u001b[39m\u001b[36m \u001b[39m\u001b[32mIn[14]\u001b[39m\u001b[32m, line 2\u001b[39m\n\u001b[32m      1\u001b[39m \u001b[38;5;66;03m# 查询特定委托\u001b[39;00m\n\u001b[32m----> \u001b[39m\u001b[32m2\u001b[39m engine.get_order(vt_orderid)\n",
      "\u001b[36mFile \u001b[39m\u001b[32me:\\document\\Code\\vnpy\\.conda\\Lib\\site-packages\\vnpy_scripttrader\\engine.py:209\u001b[39m, in \u001b[36mScriptEngine.get_order\u001b[39m\u001b[34m(self, vt_orderid, use_df)\u001b[39m\n\u001b[32m    207\u001b[39m \u001b[38;5;28;01mdef\u001b[39;00m\u001b[38;5;250m \u001b[39m\u001b[34mget_order\u001b[39m(\u001b[38;5;28mself\u001b[39m, vt_orderid: \u001b[38;5;28mstr\u001b[39m, use_df: \u001b[38;5;28mbool\u001b[39m = \u001b[38;5;28;01mFalse\u001b[39;00m) -> OrderData | \u001b[38;5;28;01mNone\u001b[39;00m:\n\u001b[32m    208\u001b[39m \u001b[38;5;250m    \u001b[39m\u001b[33;03m\"\"\"\"\"\"\u001b[39;00m\n\u001b[32m--> \u001b[39m\u001b[32m209\u001b[39m     \u001b[38;5;28;01mreturn\u001b[39;00m get_data(\u001b[38;5;28mself\u001b[39m.main_engine.get_order, arg=vt_orderid, use_df=use_df)\n",
      "\u001b[36mFile \u001b[39m\u001b[32me:\\document\\Code\\vnpy\\.conda\\Lib\\site-packages\\vnpy_scripttrader\\engine.py:326\u001b[39m, in \u001b[36mget_data\u001b[39m\u001b[34m(func, arg, use_df)\u001b[39m\n\u001b[32m    324\u001b[39m \u001b[38;5;250m\u001b[39m\u001b[33;03m\"\"\"\"\"\"\u001b[39;00m\n\u001b[32m    325\u001b[39m \u001b[38;5;28;01mif\u001b[39;00m \u001b[38;5;129;01mnot\u001b[39;00m arg:\n\u001b[32m--> \u001b[39m\u001b[32m326\u001b[39m     data = func()\n\u001b[32m    327\u001b[39m \u001b[38;5;28;01melse\u001b[39;00m:\n\u001b[32m    328\u001b[39m     data = func(arg)\n",
      "\u001b[31mTypeError\u001b[39m: OmsEngine.get_order() missing 1 required positional argument: 'vt_orderid'"
     ]
    }
   ],
   "source": [
    "# 查询特定委托\n",
    "engine.get_order(vt_orderid)"
   ]
  },
  {
   "cell_type": "code",
   "execution_count": null,
   "metadata": {},
   "outputs": [],
   "source": [
    "# 委托撤单\n",
    "engine.cancel_order(vt_orderid)"
   ]
  },
  {
   "cell_type": "code",
   "execution_count": null,
   "metadata": {},
   "outputs": [],
   "source": []
  }
 ],
 "metadata": {
  "kernelspec": {
   "display_name": ".vnpy_env",
   "language": "python",
   "name": "python3"
  },
  "language_info": {
   "codemirror_mode": {
    "name": "ipython",
    "version": 3
   },
   "file_extension": ".py",
   "mimetype": "text/x-python",
   "name": "python",
   "nbconvert_exporter": "python",
   "pygments_lexer": "ipython3",
   "version": "3.10.18"
  }
 },
 "nbformat": 4,
 "nbformat_minor": 2
}
